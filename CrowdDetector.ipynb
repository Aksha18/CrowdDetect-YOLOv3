{
 "cells": [
  {
   "cell_type": "code",
   "execution_count": 1,
   "metadata": {},
   "outputs": [],
   "source": [
    "#importing the Neccessary libraries\n",
    "import cv2\n",
    "import numpy as np\n",
    "import pandas as pd\n",
    "from matplotlib import pyplot as plt\n",
    "%matplotlib inline\n"
   ]
  },
  {
   "cell_type": "code",
   "execution_count": 2,
   "metadata": {},
   "outputs": [
    {
     "name": "stdout",
     "output_type": "stream",
     "text": [
      "Output Layers: ['yolo_82', 'yolo_94', 'yolo_106']\n"
     ]
    }
   ],
   "source": [
    "#Download yolov3 weights\n",
    "#Download yolov3.cfg\n",
    "#Download coco.names\n",
    "\n",
    "\n",
    "#Loading the Pre-Trained Model\n",
    "weights_path = \"E:/yolo_files/yolov3.weights\"\n",
    "config_path = \"E:/yolo_files/yolov3.cfg\"\n",
    "\n",
    "#Loading the yolo model\n",
    "net = cv2.dnn.readNet(weights_path, config_path)\n",
    "layer_names = net.getLayerNames()\n",
    "\n",
    "# Fix: Convert numpy.int32 to int before accessing list elements\n",
    "output_layers = [layer_names[int(i) - 1] for i in net.getUnconnectedOutLayers()]\n",
    "\n",
    "print(\"Output Layers:\", output_layers)"
   ]
  },
  {
   "cell_type": "code",
   "execution_count": 3,
   "metadata": {},
   "outputs": [],
   "source": [
    "#Load Video\n",
    "video_path= \"E:/dataset_video.mp4\"\n",
    "cap = cv2.VideoCapture(video_path)"
   ]
  },
  {
   "cell_type": "code",
   "execution_count": 4,
   "metadata": {},
   "outputs": [],
   "source": [
    "def euclidean_distance(pt1, pt2):\n",
    "    return np.sqrt((pt1[0] - pt2[0])**2 + (pt1[1] - pt2[1])**2)\n",
    "\n",
    "crowd_distance_threshold = 50\n",
    "crowd_frame_threshold = 3\n",
    "detected_crowds = []\n",
    "\n",
    "frame_count = 0\n",
    "crowd_tracker = {}\n",
    "\n",
    "                      \n",
    "                      \n",
    "while cap.isOpened():\n",
    "    ret, frame = cap.read()\n",
    "    if not ret:\n",
    "        break\n",
    "\n",
    "    frame_count += 1\n",
    "    height, width = frame.shape[:2]\n",
    "    blob = cv2.dnn.blobFromImage(frame, scalefactor=1/255.0, size=(416, 416), swapRB=True, crop=False)\n",
    "    net.setInput(blob)\n",
    "    outputs = net.forward(output_layers)\n",
    "\n",
    "    boxes, confidences, class_ids = [], [], []\n",
    "    for output in outputs:\n",
    "        for detection in output:\n",
    "            scores = detection[5:]\n",
    "            class_id = np.argmax(scores)\n",
    "            confidence = scores[class_id]\n",
    "            if class_id == 0 and confidence > 0.5: #class_id 0 indicates the person\n",
    "                center_x, center_y, w, h = (detection[:4] * np.array([width, height, width, height])).astype('int')\n",
    "                x = int(center_x - w / 2)\n",
    "                y = int(center_y - h / 2)\n",
    "                boxes.append([x, y, int(w), int(h)])\n",
    "                confidences.append(float(confidence))\n",
    "                class_ids.append(class_id)\n",
    "\n",
    "    indices = cv2.dnn.NMSBoxes(boxes, confidences, 0.5, 0.4)\n",
    "    persons = [boxes[i[0]] for i in indices]\n",
    "\n",
    "    # Calculate person centers for crowd analysis\n",
    "    person_centers = [(x + w // 2, y + h // 2) for x, y, w, h in persons]\n",
    "    groups = []\n",
    "    for i, pt1 in enumerate(person_centers):\n",
    "        group = [pt1]\n",
    "        for j, pt2 in enumerate(person_centers):\n",
    "            if i != j and euclidean_distance(pt1, pt2) < crowd_distance_threshold:\n",
    "                group.append(pt2)\n",
    "        if len(group) >= 3:  # Group of 3 or more persons\n",
    "            groups.append(group)\n",
    "\n",
    "    # Track groups across frames\n",
    "    for group in groups:\n",
    "        key = tuple(sorted(group))\n",
    "        if key in crowd_tracker:\n",
    "            crowd_tracker[key] += 1\n",
    "        else:\n",
    "            crowd_tracker[key] = 1\n",
    "\n",
    "    # Log detected crowds\n",
    "    for key, count in list(crowd_tracker.items()):\n",
    "        if count >= crowd_frame_threshold:\n",
    "            detected_crowds.append((frame_count, len(key)))\n",
    "            del crowd_tracker[key]\n",
    "\n",
    "    # Visualize: Draw bounding boxes and display info\n",
    "    for x, y, w, h in persons:\n",
    "        cv2.rectangle(frame, (x, y), (x + w, y + h), (255, 0, 0), 2)\n",
    "\n",
    "    # Display person count\n",
    "    cv2.putText(frame, f\"People Count: {len(persons)}\", (20, 50), \n",
    "                cv2.FONT_HERSHEY_SIMPLEX, 1, (0, 255, 0), 2, cv2.LINE_AA)\n",
    "\n",
    "    # Display crowd info if any\n",
    "    if detected_crowds:\n",
    "        cv2.putText(frame, f\"Crowd Detected!\", (20, 100), \n",
    "                    cv2.FONT_HERSHEY_SIMPLEX, 1, (0, 0, 255), 2, cv2.LINE_AA)\n",
    "\n",
    "  \n",
    "    cv2.imshow(\"Frame\", frame)\n",
    "    if cv2.waitKey(1) & 0xFF == ord('q'):\n",
    "        break\n",
    "\n",
    "cap.release()\n",
    "cv2.destroyAllWindows()\n",
    "\n",
    "df = pd.DataFrame(detected_crowds, columns=[\"Frame Number\", \"Person Count in Crowd\"])\n",
    "df.to_csv(\"C:/Users/91956/IMAGE PROCESSING/crowd_detection_results.csv\", index=False)\n"
   ]
  },
  {
   "cell_type": "code",
   "execution_count": 10,
   "metadata": {},
   "outputs": [
    {
     "name": "stdout",
     "output_type": "stream",
     "text": [
      "Tracking Group: ((362, 552), (409, 567), (457, 563)), Count: 1\n"
     ]
    }
   ],
   "source": [
    "print(f\"Tracking Group: {key}, Count: {crowd_tracker[key]}\")\n",
    "\n"
   ]
  },
  {
   "cell_type": "code",
   "execution_count": 11,
   "metadata": {},
   "outputs": [
    {
     "data": {
      "image/png": "[encoded data removed]",
      "text/plain": [
       "<Figure size 432x288 with 1 Axes>"
      ]
     },
     "metadata": {
      "needs_background": "light"
     },
     "output_type": "display_data"
    }
   ],
   "source": [
    "\n",
    "\n",
    "\n",
    "df.plot(x=\"Frame Number\", y=\"Person Count in Crowd\", kind=\"line\", title=\"Crowd Detection Over Frames\", legend=False)\n",
    "plt.xlabel(\"Frame Number\")\n",
    "plt.ylabel(\"Person Count in Crowd\")\n",
    "plt.title(\"Crowd Detection Over Frames\")\n",
    "plt.grid(True)\n",
    "plt.show()\n",
    "\n"
   ]
  },
  {
   "cell_type": "code",
   "execution_count": null,
   "metadata": {},
   "outputs": [],
   "source": []
  },
  {
   "cell_type": "code",
   "execution_count": null,
   "metadata": {},
   "outputs": [],
   "source": []
  }
 ],
 "metadata": {
  "kernelspec": {
   "display_name": "Python 3",
   "language": "python",
   "name": "python3"
  },
  "language_info": {
   "codemirror_mode": {
    "name": "ipython",
    "version": 3
   },
   "file_extension": ".py",
   "mimetype": "text/x-python",
   "name": "python",
   "nbconvert_exporter": "python",
   "pygments_lexer": "ipython3",
   "version": "3.6.6"
  }
 },
 "nbformat": 4,
 "nbformat_minor": 4
}
